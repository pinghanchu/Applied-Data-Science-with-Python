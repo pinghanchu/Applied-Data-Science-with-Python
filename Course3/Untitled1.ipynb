{
 "cells": [
  {
   "cell_type": "code",
   "execution_count": 46,
   "metadata": {},
   "outputs": [
    {
     "data": {
      "image/png": "[encoded data removed]",
      "text/plain": [
       "<matplotlib.figure.Figure at 0x115cd0ed0>"
      ]
     },
     "metadata": {},
     "output_type": "display_data"
    }
   ],
   "source": [
    "import numpy as np\n",
    "import pandas as pd\n",
    "import matplotlib.pyplot as plt\n",
    "from sklearn.model_selection import train_test_split\n",
    "from sklearn.linear_model import LinearRegression\n",
    "#from sklearn.linear_model import Ridge\n",
    "#from sklearn.preprocessing import PolynomialFeatures\n",
    "\n",
    "np.random.seed(0)\n",
    "n = 15\n",
    "x = np.linspace(0,10,n) + np.random.randn(n)/5\n",
    "y = np.sin(x)+x/6 + np.random.randn(n)/10\n",
    "x = x.reshape(len(x),1)\n",
    "y = y.reshape(len(y),1)\n",
    "X_train, X_test, y_train, y_test = train_test_split(x, y, random_state=0)\n",
    "X_train\n",
    "plt.figure()\n",
    "plt.scatter(X_train,y_train)\n",
    "plt.scatter(X_test,y_test)\n",
    "plt.show()\n"
   ]
  },
  {
   "cell_type": "code",
   "execution_count": 35,
   "metadata": {},
   "outputs": [
    {
     "data": {
      "text/plain": [
       "array([[ 10.08877265],\n",
       "       [  3.23065446],\n",
       "       [  1.62431903],\n",
       "       [  9.31004929],\n",
       "       [  7.17166586],\n",
       "       [  4.96972856],\n",
       "       [  8.14799756],\n",
       "       [  2.59103578],\n",
       "       [  0.35281047],\n",
       "       [  3.375973  ],\n",
       "       [  8.72363612]])"
      ]
     },
     "execution_count": 35,
     "metadata": {},
     "output_type": "execute_result"
    }
   ],
   "source": [
    "linreq = LinearRegression().fit(X_train, y_train)\n",
    "X_train"
   ]
  },
  {
   "cell_type": "code",
   "execution_count": 49,
   "metadata": {},
   "outputs": [],
   "source": [
    "poly = PolynomialFeatures(1)\n",
    "X_poly = poly.fit_transform(x)\n",
    "X_train, X_test, y_train, y_test = train_test_split(X_poly, y, random_state = 0)\n",
    "linreg = LinearRegression().fit(X_train, y_train)\n",
    "#linreq.predict(X_test)"
   ]
  },
  {
   "cell_type": "code",
   "execution_count": 45,
   "metadata": {},
   "outputs": [
    {
     "data": {
      "text/plain": [
       "array([[  1.00000000e+00,   1.00887726e+01,   1.01783334e+02,\n",
       "          1.02686891e+03],\n",
       "       [  1.00000000e+00,   3.23065446e+00,   1.04371282e+01,\n",
       "          3.37187547e+01],\n",
       "       [  1.00000000e+00,   1.62431903e+00,   2.63841230e+00,\n",
       "          4.28562329e+00],\n",
       "       [  1.00000000e+00,   9.31004929e+00,   8.66770178e+01,\n",
       "          8.06967308e+02],\n",
       "       [  1.00000000e+00,   7.17166586e+00,   5.14327912e+01,\n",
       "          3.68858792e+02],\n",
       "       [  1.00000000e+00,   4.96972856e+00,   2.46982019e+01,\n",
       "          1.22743360e+02],\n",
       "       [  1.00000000e+00,   8.14799756e+00,   6.63898642e+01,\n",
       "          5.40944452e+02],\n",
       "       [  1.00000000e+00,   2.59103578e+00,   6.71346643e+00,\n",
       "          1.73948317e+01],\n",
       "       [  1.00000000e+00,   3.52810469e-01,   1.24475227e-01,\n",
       "          4.39161633e-02],\n",
       "       [  1.00000000e+00,   3.37597300e+00,   1.13971937e+01,\n",
       "          3.84766180e+01],\n",
       "       [  1.00000000e+00,   8.72363612e+00,   7.61018271e+01,\n",
       "          6.63884647e+02]])"
      ]
     },
     "execution_count": 45,
     "metadata": {},
     "output_type": "execute_result"
    }
   ],
   "source": []
  },
  {
   "cell_type": "code",
   "execution_count": null,
   "metadata": {
    "collapsed": true
   },
   "outputs": [],
   "source": []
  }
 ],
 "metadata": {
  "kernelspec": {
   "display_name": "Python 2",
   "language": "python",
   "name": "python2"
  },
  "language_info": {
   "codemirror_mode": {
    "name": "ipython",
    "version": 2
   },
   "file_extension": ".py",
   "mimetype": "text/x-python",
   "name": "python",
   "nbconvert_exporter": "python",
   "pygments_lexer": "ipython2",
   "version": "2.7.14"
  }
 },
 "nbformat": 4,
 "nbformat_minor": 2
}
